{
 "cells": [
  {
   "cell_type": "markdown",
   "metadata": {},
   "source": [
    "# Single-ring deployable curved array computation\n",
    "\n",
    "The script is to demonstrate the compuatation of a sector of a curved (spherical) deployable array with regular hexagon hub. And the rest sectors can be obtained centrosymmetricly.\n",
    "\n",
    "## Compute vectices of plannar flasher\n",
    "$$\n",
    "x + 1 = 0\n",
    "$$"
   ]
  },
  {
   "cell_type": "code",
   "execution_count": 4,
   "metadata": {},
   "outputs": [],
   "source": [
    "import numpy as np\n",
    "import matplotlib.pyplot as plt\n",
    "from mpl_toolkits.mplot3d import Axes3D\n",
    "\n",
    "# define constants\n",
    "PI = np.pi\n",
    "INF = np.inf\n",
    "S3 = np.sqrt(3)\n",
    "S3_2 = S3 / 2\n",
    "DEG = 180 / PI\n",
    "\n",
    "A = 1   # the edge length of the hub\n",
    "R = 10  # the radius of the spherical surface\n",
    "\n",
    "angleTolerence = 5          # slack of angular constraints\n",
    "distanceTolerence = 0.15    # slack of length constraints\n",
    "# compute 2D coordinates of vertices of plannar array\n",
    "\n",
    "# First layer\n",
    "p001 = np.array([-A * S3_2, A/2])\n",
    "p002 = np.array([0,     A])\n",
    "p111 = np.array([-A * S3_2, 3*A/2])\n",
    "p121 = p111 + np.array([A/S3, 0])\n",
    "\n",
    "# Second layer\n",
    "p211 = p111 + p111 - p001\n",
    "p221 = p121 + p121 - p001\n",
    "p112 = p002 + p002 - p001\n",
    "\n",
    "\n"
   ]
  },
  {
   "cell_type": "code",
   "execution_count": null,
   "metadata": {},
   "outputs": [],
   "source": [
    "def computeZ(p:np.array)->np.array:\n",
    "    x, y = p[0], p[1]\n",
    "    z = np.sqrt(R*R - x*x - y*y)\n",
    "    return np.array([x, y, z])"
   ]
  }
 ],
 "metadata": {
  "interpreter": {
   "hash": "31f2aee4e71d21fbe5cf8b01ff0e069b9275f58929596ceb00d14d90e3e16cd6"
  },
  "kernelspec": {
   "display_name": "Python 3.6.9 64-bit",
   "name": "python3"
  },
  "language_info": {
   "codemirror_mode": {
    "name": "ipython",
    "version": 3
   },
   "file_extension": ".py",
   "mimetype": "text/x-python",
   "name": "python",
   "nbconvert_exporter": "python",
   "pygments_lexer": "ipython3",
   "version": "3.6.9"
  },
  "orig_nbformat": 4
 },
 "nbformat": 4,
 "nbformat_minor": 2
}